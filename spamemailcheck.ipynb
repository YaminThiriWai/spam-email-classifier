{
 "cells": [
  {
   "cell_type": "code",
   "execution_count": 22,
   "metadata": {},
   "outputs": [
    {
     "name": "stdout",
     "output_type": "stream",
     "text": [
      "Model Accuracy: 0.9802690582959641\n",
      "[\"Congratulations! You've won a free cruise to the Bahamas. To claim your prize, reply to this email with your credit card information and social security number. Don't miss this once-in-a-lifetime opportunity!\"]\n",
      "Predicted Label: spam\n"
     ]
    }
   ],
   "source": [
    "import pandas as pd\n",
    "from sklearn.model_selection import train_test_split\n",
    "from sklearn.feature_extraction.text import CountVectorizer\n",
    "from sklearn import svm\n",
    "\n",
    "spam = pd.read_csv(\"spam.csv\")\n",
    "\n",
    "z = spam['EmailText']\n",
    "y = spam[\"Label\"]\n",
    "\n",
    "z_train, z_test, y_train, y_test = train_test_split(z, y, test_size=0.2)\n",
    "\n",
    "cv = CountVectorizer()\n",
    "features = cv.fit_transform(z_train)\n",
    "\n",
    "model = svm.SVC()\n",
    "model.fit(features, y_train)\n",
    "\n",
    "features_test = cv.transform(z_test)\n",
    "print(\"Model Accuracy:\", model.score(features_test, y_test))\n",
    "\n",
    "new_email_text = [\"Congratulations! You've won a free cruise to the Bahamas. To claim your prize, reply to this email with your credit card information and social security number. Don't miss this once-in-a-lifetime opportunity!\"]\n",
    "print(new_email_text)\n",
    "\n",
    "\n",
    "new_email_features = cv.transform(new_email_text)\n",
    "\n",
    "prediction = model.predict(new_email_features)\n",
    "\n",
    "\n",
    "print(\"Predicted Label:\", prediction[0])\n"
   ]
  }
 ],
 "metadata": {
  "kernelspec": {
   "display_name": "base",
   "language": "python",
   "name": "python3"
  },
  "language_info": {
   "codemirror_mode": {
    "name": "ipython",
    "version": 3
   },
   "file_extension": ".py",
   "mimetype": "text/x-python",
   "name": "python",
   "nbconvert_exporter": "python",
   "pygments_lexer": "ipython3",
   "version": "3.11.5"
  }
 },
 "nbformat": 4,
 "nbformat_minor": 2
}
